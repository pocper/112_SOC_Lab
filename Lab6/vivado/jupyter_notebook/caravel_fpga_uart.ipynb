{
 "cells": [
  {
   "cell_type": "code",
   "execution_count": 1,
   "metadata": {},
   "outputs": [
    {
     "data": {
      "application/javascript": "\ntry {\nrequire(['notebook/js/codecell'], function(codecell) {\n  codecell.CodeCell.options_default.highlight_modes[\n      'magic_text/x-csrc'] = {'reg':[/^%%microblaze/]};\n  Jupyter.notebook.events.one('kernel_ready.Kernel', function(){\n      Jupyter.notebook.get_cells().map(function(cell){\n          if (cell.cell_type == 'code'){ cell.auto_highlight(); } }) ;\n  });\n});\n} catch (e) {};\n"
     },
     "metadata": {},
     "output_type": "display_data"
    },
    {
     "data": {
      "application/javascript": "\ntry {\nrequire(['notebook/js/codecell'], function(codecell) {\n  codecell.CodeCell.options_default.highlight_modes[\n      'magic_text/x-csrc'] = {'reg':[/^%%pybind11/]};\n  Jupyter.notebook.events.one('kernel_ready.Kernel', function(){\n      Jupyter.notebook.get_cells().map(function(cell){\n          if (cell.cell_type == 'code'){ cell.auto_highlight(); } }) ;\n  });\n});\n} catch (e) {};\n"
     },
     "metadata": {},
     "output_type": "display_data"
    }
   ],
   "source": [
    "from __future__ import print_function\n",
    "\n",
    "import sys\n",
    "import numpy as np\n",
    "from time import time\n",
    "import matplotlib.pyplot as plt \n",
    "\n",
    "sys.path.append('/home/xilinx')\n",
    "from pynq import Overlay\n",
    "from pynq import allocate\n",
    "\n",
    "from uartlite import *\n",
    "\n",
    "import multiprocessing\n",
    "\n",
    "# For sharing string variable\n",
    "from multiprocessing import Process,Manager,Value\n",
    "from ctypes import c_char_p\n",
    "\n",
    "import asyncio\n",
    "\n",
    "ROM_SIZE = 0x2000 #8K"
   ]
  },
  {
   "cell_type": "code",
   "execution_count": 2,
   "metadata": {
    "scrolled": true
   },
   "outputs": [],
   "source": [
    "ol = Overlay(\"caravel_fpga.bit\")\n",
    "#ol.ip_dict"
   ]
  },
  {
   "cell_type": "code",
   "execution_count": 3,
   "metadata": {},
   "outputs": [],
   "source": [
    "ipOUTPIN = ol.output_pin_0\n",
    "ipPS = ol.caravel_ps_0\n",
    "ipReadROMCODE = ol.read_romcode_0\n",
    "ipUart = ol.axi_uartlite_0"
   ]
  },
  {
   "cell_type": "code",
   "execution_count": 4,
   "metadata": {},
   "outputs": [
    {
     "data": {
      "application/json": {
       "axi_intc_0/intr": {
        "controller": "axi_intc_0",
        "fullpath": "axi_intc_0/intr",
        "index": 0
       },
       "axi_uartlite_0/interrupt": {
        "controller": "axi_intc_0",
        "fullpath": "axi_uartlite_0/interrupt",
        "index": 0
       }
      },
      "text/plain": [
       "{'axi_uartlite_0/interrupt': {'controller': 'axi_intc_0',\n",
       "  'index': 0,\n",
       "  'fullpath': 'axi_uartlite_0/interrupt'},\n",
       " 'axi_intc_0/intr': {'controller': 'axi_intc_0',\n",
       "  'index': 0,\n",
       "  'fullpath': 'axi_intc_0/intr'}}"
      ]
     },
     "execution_count": 4,
     "metadata": {
      "application/json": {
       "expanded": false,
       "root": "interrupt_pins"
      }
     },
     "output_type": "execute_result"
    }
   ],
   "source": [
    "ol.interrupt_pins"
   ]
  },
  {
   "cell_type": "code",
   "execution_count": 5,
   "metadata": {},
   "outputs": [],
   "source": [
    "# See what interrupts are in the system\n",
    "#ol.interrupt_pins\n",
    "\n",
    "# Each IP instances has a _interrupts dictionary which lists the names of the interrupts\n",
    "#ipUart._interrupts\n",
    "\n",
    "# The interrupts object can then be accessed by its name\n",
    "# The Interrupt class provides a single function wait \n",
    "# which is an asyncio coroutine that returns when the interrupt is signalled.\n",
    "intUart = ipUart.interrupt"
   ]
  },
  {
   "cell_type": "code",
   "execution_count": 6,
   "metadata": {
    "scrolled": true
   },
   "outputs": [],
   "source": [
    "# Create np with 8K/4 (4 bytes per index) size and be initiled to 0\n",
    "rom_size_final = 0\n",
    "\n",
    "npROM = np.zeros(ROM_SIZE >> 2, dtype=np.uint32)\n",
    "npROM_index = 0\n",
    "npROM_offset = 0\n",
    "fiROM = open(\"integrate.hex\", \"r+\")\n",
    "#fiROM = open(\"counter_wb.hex\", \"r+\")\n",
    "\n",
    "for line in fiROM:\n",
    "    # offset header\n",
    "    if line.startswith('@'):\n",
    "        # Ignore first char @\n",
    "        npROM_offset = int(line[1:].strip(b'\\x00'.decode()), base = 16)\n",
    "        npROM_offset = npROM_offset >> 2 # 4byte per offset\n",
    "        #print (npROM_offset)\n",
    "        npROM_index = 0\n",
    "        continue\n",
    "    #print (line)\n",
    "\n",
    "    # We suppose the data must be 32bit alignment\n",
    "    buffer = 0\n",
    "    bytecount = 0\n",
    "    for line_byte in line.strip(b'\\x00'.decode()).split():\n",
    "        buffer += int(line_byte, base = 16) << (8 * bytecount)\n",
    "        bytecount += 1\n",
    "        # Collect 4 bytes, write to npROM\n",
    "        if(bytecount == 4):\n",
    "            npROM[npROM_offset + npROM_index] = buffer\n",
    "            # Clear buffer and bytecount\n",
    "            buffer = 0\n",
    "            bytecount = 0\n",
    "            npROM_index += 1\n",
    "            #print (npROM_index)\n",
    "            continue\n",
    "    # Fill rest data if not alignment 4 bytes\n",
    "    if (bytecount != 0):\n",
    "        npROM[npROM_offset + npROM_index] = buffer\n",
    "        npROM_index += 1\n",
    "    \n",
    "fiROM.close()\n",
    "\n",
    "rom_size_final = npROM_offset + npROM_index\n",
    "#print (rom_size_final)\n",
    "\n",
    "#for data in npROM:\n",
    "#    print (hex(data))\n"
   ]
  },
  {
   "cell_type": "code",
   "execution_count": 7,
   "metadata": {
    "scrolled": false
   },
   "outputs": [
    {
     "name": "stdout",
     "output_type": "stream",
     "text": [
      "Write to bram done\n"
     ]
    }
   ],
   "source": [
    "# Allocate dram buffer will assign physical address to ip ipReadROMCODE\n",
    "\n",
    "#rom_buffer = allocate(shape=(ROM_SIZE >> 2,), dtype=np.uint32)\n",
    "rom_buffer = allocate(shape=(rom_size_final,), dtype=np.uint32)\n",
    "\n",
    "# Initial it by npROM\n",
    "#for index in range (ROM_SIZE >> 2):\n",
    "for index in range (rom_size_final):\n",
    "    rom_buffer[index] = npROM[index]\n",
    "    \n",
    "#for index in range (ROM_SIZE >> 2):\n",
    "#    print (\"0x{0:08x}\".format(rom_buffer[index]))\n",
    "\n",
    "# Program physical address for the romcode base address\n",
    "\n",
    "\n",
    "# 0x00 : Control signals\n",
    "#        bit 0  - ap_start (Read/Write/COH)\n",
    "#        bit 1  - ap_done (Read/COR)\n",
    "#        bit 2  - ap_idle (Read)\n",
    "#        bit 3  - ap_ready (Read)\n",
    "#        bit 7  - auto_restart (Read/Write)\n",
    "#        others - reserved\n",
    "# 0x10 : Data signal of romcode\n",
    "#        bit 31~0 - romcode[31:0] (Read/Write)\n",
    "# 0x14 : Data signal of romcode\n",
    "#        bit 31~0 - romcode[63:32] (Read/Write)\n",
    "# 0x1c : Data signal of length_r\n",
    "#        bit 31~0 - length_r[31:0] (Read/Write)\n",
    "\n",
    "ipReadROMCODE.write(0x10, rom_buffer.device_address)\n",
    "ipReadROMCODE.write(0x1C, rom_size_final)\n",
    "\n",
    "ipReadROMCODE.write(0x14, 0)\n",
    "\n",
    "# ipReadROMCODE start to move the data from rom_buffer to bram\n",
    "ipReadROMCODE.write(0x00, 1) # IP Start\n",
    "while (ipReadROMCODE.read(0x00) & 0x04) == 0x00: # wait for done\n",
    "    continue\n",
    "    \n",
    "print(\"Write to bram done\")\n"
   ]
  },
  {
   "cell_type": "code",
   "execution_count": 8,
   "metadata": {
    "scrolled": true
   },
   "outputs": [
    {
     "data": {
      "text/plain": [
       "{'RX_VALID': 0,\n",
       " 'RX_FULL': 0,\n",
       " 'TX_EMPTY': 1,\n",
       " 'TX_FULL': 0,\n",
       " 'IS_INTR': 0,\n",
       " 'OVERRUN_ERR': 0,\n",
       " 'FRAME_ERR': 0,\n",
       " 'PARITY_ERR': 0}"
      ]
     },
     "execution_count": 8,
     "metadata": {},
     "output_type": "execute_result"
    }
   ],
   "source": [
    "# Initialize AXI UART\n",
    "uart = UartAXI(ipUart.mmio.base_addr)\n",
    "\n",
    "# Setup AXI UART register\n",
    "uart.setupCtrlReg()\n",
    "\n",
    "# Get current UART status\n",
    "uart.currentStatus()"
   ]
  },
  {
   "cell_type": "code",
   "execution_count": 18,
   "metadata": {},
   "outputs": [],
   "source": [
    "async def uart_rx():\n",
    "    # Reset FIFOs, enable interrupts\n",
    "    ipUart.write(CTRL_REG, 1<<RST_TX | 1<<RST_RX | 1<<INTR_EN)\n",
    "    print(\"Waitting for interrupt\")\n",
    "    while(True):\n",
    "        await intUart.wait()\n",
    "        # Read FIFO until valid bit is clear\n",
    "        while ((ipUart.read(STAT_REG) & (1<<RX_VALID))):\n",
    "            uart_val = ipUart.read(RX_FIFO)\n",
    "            if(uart_val == ord('\\n')):\n",
    "                print()\n",
    "            else:\n",
    "                print(f\"{uart_val:02x}\", end=' ')\n",
    "\n",
    "async def uart_tx():\n",
    "    await asyncio.sleep(1)\n",
    "    ipUart.write(CTRL_REG, 1<<RST_TX | 1<<RST_RX | 1<<INTR_EN)\n",
    "    tx_str = \"Done Homework\\n\"\n",
    "    i = 0\n",
    "\n",
    "    while (True):\n",
    "        if(i<len(tx_str)):\n",
    "            ipUart.write(TX_FIFO, ord(tx_str[i]))\n",
    "            await intUart.wait()\n",
    "            while ((ipUart.read(STAT_REG) & (1<<TX_FULL))):\n",
    "                pass\n",
    "            i=i+1\n",
    "            await asyncio.sleep(0.5)\n",
    "        else:\n",
    "            break\n",
    "\n",
    "                \n",
    "        \n",
    "async def caravel_start():\n",
    "    ipOUTPIN.write(0x10, 0)\n",
    "    print(\"Start Caravel Soc\")\n",
    "    ipOUTPIN.write(0x10, 1)\n",
    "\n",
    "# Python 3.5+\n",
    "#tasks = [ # Create a task list\n",
    "#    asyncio.ensure_future(example1()),\n",
    "#    asyncio.ensure_future(example2()),\n",
    "#]\n",
    "# To test this we need to use the asyncio library to schedule our new coroutine. \n",
    "# asyncio uses event loops to execute coroutines. \n",
    "# When python starts it will create a default event loop \n",
    "# which is what the PYNQ interrupt subsystem uses to handle interrupts\n",
    "\n",
    "#loop = asyncio.get_event_loop()\n",
    "#loop.run_until_complete(asyncio.wait(tasks))\n",
    "\n",
    "# Python 3.7+\n",
    "async def async_main(): \n",
    "    task2 = asyncio.create_task(caravel_start()) \n",
    "    task3 = asyncio.create_task(uart_tx())\n",
    "    task1 = asyncio.create_task(uart_rx())\n",
    "    \n",
    "    # Wait for 5 second\n",
    "    await asyncio.sleep(15)\n",
    "    task1.cancel()\n",
    "    task3.cancel()\n",
    "    try:\n",
    "        await task1\n",
    "        await task3\n",
    "    except asyncio.CancelledError:\n",
    "        print('main(): uart_rx is cancelled now')"
   ]
  },
  {
   "cell_type": "code",
   "execution_count": 19,
   "metadata": {},
   "outputs": [
    {
     "name": "stdout",
     "output_type": "stream",
     "text": [
      "Start Caravel Soc\n",
      "Waitting for interrupt\n",
      "ab 11 \n",
      "00 3e \n",
      "00 44 \n",
      "00 4a \n",
      "00 50 \n",
      "ab 19 \n",
      "ab 21 \n",
      "00 28 \n",
      "03 7d \n",
      "09 ed \n",
      "\n",
      "6d \n",
      "0c a1 \n",
      "10 ab \n",
      "12 0e \n",
      "16 31 \n",
      "17 87 \n",
      "23 71 \n",
      "ab 29 \n",
      "ab 31 \n",
      "00 00 \n",
      "ff f6 \n",
      "ff e3 \n",
      "ff e7 \n",
      "00 23 \n",
      "00 9e \n",
      "01 51 \n",
      "02 1b \n",
      "02 dc \n",
      "03 93 \n",
      "04 4a \n",
      "ab 39 \n",
      "44 6f 6e 65 20 48 6f 6d 65 77 6f 72 6b \n",
      "main(): uart_rx is cancelled now\n"
     ]
    }
   ],
   "source": [
    "asyncio.run(async_main()) "
   ]
  },
  {
   "cell_type": "markdown",
   "metadata": {},
   "source": [
    "# Address Info\n",
    "---\n",
    "## caravel_ps_control_s_axi\n",
    "File: ../vitis_prj/hls_caravel_ps/hls_caravel_ps.prj/solution1/impl/verilog/caravel_ps_control_s_axi.v\n",
    "``` c\n",
    "// 0x00 : reserved\n",
    "// 0x04 : reserved\n",
    "// 0x08 : reserved\n",
    "// 0x0c : reserved\n",
    "// 0x10 : Data signal of ps_mprj_in\n",
    "//        bit 31~0 - ps_mprj_in[31:0] (Read/Write)\n",
    "// 0x14 : Data signal of ps_mprj_in\n",
    "//        bit 5~0 - ps_mprj_in[37:32] (Read/Write)\n",
    "//        others  - reserved\n",
    "// 0x18 : reserved\n",
    "// 0x1c : Data signal of ps_mprj_out\n",
    "//        bit 31~0 - ps_mprj_out[31:0] (Read)\n",
    "// 0x20 : Data signal of ps_mprj_out\n",
    "//        bit 5~0 - ps_mprj_out[37:32] (Read)\n",
    "//        others  - reserved\n",
    "// 0x24 : Control signal of ps_mprj_out\n",
    "//        bit 0  - ps_mprj_out_ap_vld (Read/COR)\n",
    "//        others - reserved\n",
    "// 0x34 : Data signal of ps_mprj_en\n",
    "//        bit 31~0 - ps_mprj_en[31:0] (Read)\n",
    "// 0x38 : Data signal of ps_mprj_en\n",
    "//        bit 5~0 - ps_mprj_en[37:32] (Read)\n",
    "//        others  - reserved\n",
    "// 0x3c : Control signal of ps_mprj_en\n",
    "//        bit 0  - ps_mprj_en_ap_vld (Read/COR)\n",
    "//        others - reserved\n",
    "// (SC = Self Clear, COR = Clear on Read, TOW = Toggle on Write, COH = Clear on Handshake)\n",
    "```\n",
    "\n",
    "## output_pin_control_s_axi\n",
    "File: ../vitis_prj/hls_output_pin/hls_output_pin.prj/solution1/impl/verilog/output_pin_s_axi.v\n",
    "``` c\n",
    "// 0x00 : reserved\n",
    "// 0x04 : reserved\n",
    "// 0x08 : reserved\n",
    "// 0x0c : reserved\n",
    "// 0x10 : Data signal of outpin_ctrl\n",
    "//        bit 0  - outpin_ctrl[0] (Read/Write)\n",
    "//        others - reserved\n",
    "// 0x14 : reserved\n",
    "// (SC = Self Clear, COR = Clear on Read, TOW = Toggle on Write, COH = Clear on Handshake)\n",
    "```\n",
    "\n",
    "## read_romcode_control_s_axi\n",
    "File: ../vitis_prj/hls_read_romcode/hls_read_romcode.prj/solution1/impl/verilog/read_romcode_control_s_axi.v\n",
    "``` c\n",
    "// 0x00 : Control signals\n",
    "//        bit 0  - ap_start (Read/Write/COH)\n",
    "//        bit 1  - ap_done (Read/COR)\n",
    "//        bit 2  - ap_idle (Read)\n",
    "//        bit 3  - ap_ready (Read/COR)\n",
    "//        bit 7  - auto_restart (Read/Write)\n",
    "//        bit 9  - interrupt (Read)\n",
    "//        others - reserved\n",
    "// 0x04 : Global Interrupt Enable Register\n",
    "//        bit 0  - Global Interrupt Enable (Read/Write)\n",
    "//        others - reserved\n",
    "// 0x08 : IP Interrupt Enable Register (Read/Write)\n",
    "//        bit 0 - enable ap_done interrupt (Read/Write)\n",
    "//        bit 1 - enable ap_ready interrupt (Read/Write)\n",
    "//        others - reserved\n",
    "// 0x0c : IP Interrupt Status Register (Read/COR)\n",
    "//        bit 0 - ap_done (Read/COR)\n",
    "//        bit 1 - ap_ready (Read/COR)\n",
    "//        others - reserved\n",
    "// 0x10 : Data signal of romcode\n",
    "//        bit 31~0 - romcode[31:0] (Read/Write)\n",
    "// 0x14 : Data signal of romcode\n",
    "//        bit 31~0 - romcode[63:32] (Read/Write)\n",
    "// 0x18 : reserved\n",
    "// 0x1c : Data signal of length_r\n",
    "//        bit 31~0 - length_r[31:0] (Read/Write)\n",
    "// 0x20 : reserved\n",
    "// (SC = Self Clear, COR = Clear on Read, TOW = Toggle on Write, COH = Clear on Handshake)\n",
    "```"
   ]
  },
  {
   "cell_type": "code",
   "execution_count": 11,
   "metadata": {},
   "outputs": [
    {
     "name": "stdout",
     "output_type": "stream",
     "text": [
      "0x10 =  0x0\n",
      "0x14 =  0x0\n",
      "0x1c =  0xab390040\n",
      "0x20 =  0x0\n",
      "0x34 =  0x20\n",
      "0x38 =  0x3f\n"
     ]
    }
   ],
   "source": [
    "print (\"0x10 = \", hex(ipPS.read(0x10))) # Data signal of ps_mprj_in[31:0]\n",
    "print (\"0x14 = \", hex(ipPS.read(0x14))) # Data signal of ps_mprj_in[37:32]\n",
    "print (\"0x1c = \", hex(ipPS.read(0x1c))) # Data signal of ps_mprj_out[31:0]\n",
    "print (\"0x20 = \", hex(ipPS.read(0x20))) # Data signal of ps_mprj_out[37:32]\n",
    "print (\"0x34 = \", hex(ipPS.read(0x34))) # Data signal of ps_mprj_en[31:0]\n",
    "print (\"0x38 = \", hex(ipPS.read(0x38))) # Data signal of ps_mprj_en[37:32]"
   ]
  },
  {
   "cell_type": "code",
   "execution_count": null,
   "metadata": {},
   "outputs": [],
   "source": []
  }
 ],
 "metadata": {
  "kernelspec": {
   "display_name": "Python 3",
   "language": "python",
   "name": "python3"
  },
  "language_info": {
   "codemirror_mode": {
    "name": "ipython",
    "version": 3
   },
   "file_extension": ".py",
   "mimetype": "text/x-python",
   "name": "python",
   "nbconvert_exporter": "python",
   "pygments_lexer": "ipython3",
   "version": "3.8.2"
  }
 },
 "nbformat": 4,
 "nbformat_minor": 2
}
